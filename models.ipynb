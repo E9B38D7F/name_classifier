{
 "cells": [
  {
   "cell_type": "code",
   "execution_count": 2,
   "id": "1f431f0b-2ccc-4100-9b0c-3bdbdea7ef71",
   "metadata": {},
   "outputs": [],
   "source": [
    "import pandas as pd\n",
    "import numpy as np\n",
    "import matplotlib.pyplot as plt\n",
    "import torch\n",
    "import torch.nn.functional as F"
   ]
  },
  {
   "cell_type": "markdown",
   "id": "6426f836-5417-41ac-a3b6-af057fe8fba0",
   "metadata": {
    "jp-MarkdownHeadingCollapsed": true
   },
   "source": [
    "# Setup"
   ]
  },
  {
   "cell_type": "code",
   "execution_count": 3,
   "id": "ade2d43d-d3bd-4a14-a3b6-67b020195b49",
   "metadata": {},
   "outputs": [],
   "source": [
    "CHARSET = (\n",
    "    \" '-.abcdefghijklmnopqrstuvwxyz\" # chars in dataset\n",
    "    + \"!~\" # special chars\n",
    ")\n",
    "\n",
    "ENCODING = dict(zip(CHARSET, range(len(CHARSET))))\n",
    "DECODING = {ENCODING[key]: key for key in ENCODING}\n",
    "\n",
    "ENCODE = np.vectorize(lambda x: ENCODING.get(x, -1))\n",
    "DECODE = np.vectorize(lambda x: DECODING.get(x, -1))"
   ]
  },
  {
   "cell_type": "code",
   "execution_count": 4,
   "id": "fa4ae4b6-444a-42df-aebb-39fb880221bd",
   "metadata": {},
   "outputs": [],
   "source": [
    "def turn_name_list_into_data(names, model_lookback):\n",
    "    \"\"\"\n",
    "    Takes a Series of names, pads it with \"~\" at the start and \"!\" at the end\n",
    "        e.g., \"jeff\" -> \"~~jeff!\" if model_lookback is 2\n",
    "    Then transforms that into all the (predictor, responder) pairs in the name\n",
    "        e.g., ~,~,j, ~,j,e; j,e,f; e,f,f; f,f,!\n",
    "    Returns these as an encoded tensor, rows being\n",
    "    \"\"\"\n",
    "    aug_names = \"~\" * model_lookback + names + \"!\"\n",
    "    input_data = np.array([\n",
    "        list(name[i:i + model_lookback + 1])\n",
    "        for name in aug_names\n",
    "        for i in range(len(name) - model_lookback)\n",
    "    ])\n",
    "    data = torch.tensor(ENCODE(input_data))\n",
    "    return data"
   ]
  },
  {
   "cell_type": "code",
   "execution_count": 337,
   "id": "a632aa47-8fce-405d-bdcb-3f7fb43455d9",
   "metadata": {},
   "outputs": [],
   "source": [
    "class Model:\n",
    "    \n",
    "    def __init__(self, num_embedding_dims=10, internal_size=80, model_lookback=3, reg_rate=0.001):\n",
    "        \"\"\"\n",
    "        Basic stuff: takes model_lookback characters as input, predicts the next\n",
    "        Embeds characters in num_embedding_dims space\n",
    "        Then has three fully-connected layers, with ReLU activation, of size internal_size\n",
    "        Goes through softmax to get predictions\n",
    "        Regularisation, which is params shrunk by reg_rate * learning_rate each minibatch\n",
    "        \"\"\"\n",
    "        self.num_embedding_dims = num_embedding_dims\n",
    "        self.internal_size = internal_size\n",
    "        self.model_lookback = model_lookback\n",
    "        self.reg_rate = reg_rate\n",
    "        \n",
    "        self.embed = torch.randn((len(CHARSET), num_embedding_dims), dtype=torch.float32)\n",
    "        # embed e.g., [5] by doing embed[5] - matrix multiplication without matrix multiplication! clever\n",
    "        \n",
    "        self.block_1 = torch.randn((num_embedding_dims * model_lookback, internal_size)) / 100\n",
    "        self.biases_1 = torch.randn(internal_size)\n",
    "        self.block_2 = torch.randn((internal_size, internal_size)) / 100\n",
    "        self.biases_2 = torch.randn(internal_size)\n",
    "        self.block_3 = torch.randn((internal_size, len(CHARSET))) / 100\n",
    "        self.biases_3 = torch.randn(len(CHARSET))\n",
    "\n",
    "        self.params = [\n",
    "            self.embed, \n",
    "            self.block_1, self.biases_1, \n",
    "            self.block_2, self.biases_2, \n",
    "            self.block_3, self.biases_3\n",
    "        ]\n",
    "        for param in self.params:\n",
    "            param.requires_grad = True\n",
    "\n",
    "    def forward(self, data):\n",
    "        \"\"\"\n",
    "        Note this returns logits!! Not probabilities (so it trains better with cross-entropy)\n",
    "        Takes in tensor and returns tensor\n",
    "        \"\"\"\n",
    "        s1 = self.embed[data].view(-1, self.num_embedding_dims * self.model_lookback)\n",
    "        s2 = torch.relu(s1 @ self.block_1 + self.biases_1)\n",
    "        s3 = torch.relu(s2 @ self.block_2 + self.biases_2)\n",
    "        logits = s3 @ self.block_3 + self.biases_3\n",
    "        return logits\n",
    "\n",
    "    def train(self, data, epochs, val_size=0.2, learning_rate=0.01, minibatch_size=128, graph=True):\n",
    "        \"\"\"\n",
    "        Train for specified num of epochs on data\n",
    "        Prints plot of the validation loss, one sample per epoch\n",
    "        \"\"\"\n",
    "        num_samples = int(len(data) * (1 - val_size))\n",
    "        val_set = data[num_samples:]\n",
    "        pred_v = val_set[:, :self.model_lookback]\n",
    "        targ_v = val_set[:, self.model_lookback]\n",
    "        val_losses = []\n",
    "\n",
    "        for epoch in range(epochs):\n",
    "            for i in range(num_samples // minibatch_size): # i.e., expected to cover each sample once\n",
    "                # Choose the minibatch\n",
    "                minibatch_idx = torch.randint(0, num_samples, (minibatch_size,))\n",
    "                pred = data[minibatch_idx, :self.model_lookback] \n",
    "                targ = data[minibatch_idx, self.model_lookback]\n",
    "\n",
    "                # Get loss\n",
    "                logits = self.forward(pred)\n",
    "                loss = F.cross_entropy(logits, targ)\n",
    "\n",
    "                # Update params\n",
    "                for param in self.params:\n",
    "                    param.grad = None\n",
    "                loss.backward()\n",
    "                for param in self.params:\n",
    "                    param.data -= learning_rate * (param.grad + self.reg_rate * param.data)\n",
    "\n",
    "            # Get validation loss at end of each epoch\n",
    "            if len(pred_v) > 0:\n",
    "                val_logits = self.forward(pred_v)\n",
    "                val_loss = F.cross_entropy(val_logits, targ_v)\n",
    "                val_losses.append(val_loss.detach().numpy())\n",
    "\n",
    "        if graph:\n",
    "            fig, ax = plt.subplots(figsize=(5, 3))\n",
    "            plt.plot(val_losses, color=\"black\");\n",
    "\n",
    "    def generate_name(self, stem=\"\", temperature=1):\n",
    "        \"\"\"\n",
    "        Does what it says on the tin - generates a name, according to its internal probs\n",
    "        stem: start of the name, e.g., if stem is \"jef\" it will probably give an \"f\" to make \"jeff\"\n",
    "        temperature: higher temp means closer to uniform probs\n",
    "            does this by dividing logits by temp, so arbitrarily high temp makes all logits 0\n",
    "            and temp epsilon makes it just give the highest-likelihood next char\n",
    "            (don't make temperature negative, and REALLY don't make it 0)\n",
    "        \"\"\"\n",
    "        if stem == \"\":\n",
    "            name = torch.tensor([[31] * self.model_lookback])\n",
    "        else:\n",
    "            name = torch.tensor([[31] * self.model_lookback + list(ENCODE(np.array(list(stem))))])\n",
    "        while name[0,-1] != torch.tensor(ENCODE(\"!\")) and len(name[0]) < 100:\n",
    "            # Use model to generate a new name!!\n",
    "            pred = name[:,-self.model_lookback:]\n",
    "            logits = self.forward(pred) / temperature\n",
    "            probs = F.softmax(logits, dim=1)\n",
    "            new_letter = torch.multinomial(probs, num_samples=1, replacement=True)\n",
    "            name = torch.concat([name, new_letter], dim=1)\n",
    "        return \"\".join(DECODE(name)[0])[self.model_lookback:-1]\n",
    "\n",
    "    def get_log_prob_of_name(self, name):\n",
    "        \"\"\"\n",
    "        Takes in a string\n",
    "        Returns log probability of the model generating that name\n",
    "        (log prob because it's more numerically stable)\n",
    "        \"\"\"\n",
    "        data = turn_name_list_into_data(pd.Series([name]), self.model_lookback)\n",
    "        pred = data[:, :self.model_lookback]\n",
    "        targ = data[:, self.model_lookback]\n",
    "        logits = self.forward(pred)\n",
    "        probs = F.softmax(logits, dim=1)\n",
    "        actual_probs = probs[torch.arange(len(pred)), targ]\n",
    "        return torch.log(actual_probs).sum()"
   ]
  },
  {
   "cell_type": "code",
   "execution_count": 83,
   "id": "73373515-682f-4218-b7fd-8b9c9a92a547",
   "metadata": {},
   "outputs": [],
   "source": [
    "class PairModel:\n",
    "\n",
    "    def __init__(self, first_model, last_model):\n",
    "        \"\"\"\n",
    "        Simple wrapper for a pair of models, one for first name, one for last name\n",
    "        Models trained separately\n",
    "        \"\"\"\n",
    "        self.first_model = first_model\n",
    "        self.last_model = last_model\n",
    "\n",
    "    def generate_name(self, stem_first=\"\", stem_last=\"\"):\n",
    "        first_name = self.first_model.generate_name(stem=stem_first)\n",
    "        last_name = self.last_model.generate_name(stem=stem_last)\n",
    "        return f\"{first_name} {last_name}\".title()\n",
    "\n",
    "    def get_log_prob_of_name(self, name):\n",
    "        components = name.split(\" \")\n",
    "        first = \" \".join(components[:-1])\n",
    "        last = \"\" if len(components) == 1 else components[-1]\n",
    "        first_prob = self.first_model.get_log_prob_of_name(first)\n",
    "        last_prob = self.first_model.get_log_prob_of_name(last)\n",
    "        return first_prob + last_prob"
   ]
  },
  {
   "cell_type": "markdown",
   "id": "0d5e0ebb-8f98-4ff9-88e4-c56d55ab783b",
   "metadata": {
    "jp-MarkdownHeadingCollapsed": true
   },
   "source": [
    "# Pretrain on dictionary"
   ]
  },
  {
   "cell_type": "code",
   "execution_count": 60,
   "id": "689ea6df-3bd4-48e5-a1d4-e2247d056905",
   "metadata": {},
   "outputs": [],
   "source": [
    "words = pd.read_csv(\"datasets/cleaned/words.csv\", header=None)[0]"
   ]
  },
  {
   "cell_type": "code",
   "execution_count": 69,
   "id": "f2691661-027b-4814-8b7f-257da3a44151",
   "metadata": {},
   "outputs": [],
   "source": [
    "word_data = turn_name_list_into_data(\n",
    "    words.sample(frac=1), model_lookback=3\n",
    ")"
   ]
  },
  {
   "cell_type": "markdown",
   "id": "a5decb03-a946-451a-8e99-52a007464fa2",
   "metadata": {},
   "source": [
    "# Make baseball model"
   ]
  },
  {
   "cell_type": "markdown",
   "id": "ba84ffd5-5fd8-4d31-8323-a9bb35ab1285",
   "metadata": {},
   "source": [
    "### Get data in order"
   ]
  },
  {
   "cell_type": "code",
   "execution_count": 440,
   "id": "43e0c88e-4660-434d-8371-0f1fbbadf475",
   "metadata": {},
   "outputs": [],
   "source": [
    "players = pd.read_csv(\"datasets/cleaned/players.csv\").sample(frac=1)"
   ]
  },
  {
   "cell_type": "code",
   "execution_count": 441,
   "id": "e7dbc90d-584c-4b31-9dc3-1c97fc22bdea",
   "metadata": {},
   "outputs": [],
   "source": [
    "# Suffix \"_bb\" is to mark \"baseball\"\n",
    "first_lookback_bb = 2 # don't want to overfit to first names\n",
    "first_words_bb = turn_name_list_into_data(\n",
    "    words.sample(frac=1), \n",
    "    model_lookback=first_lookback_bb\n",
    ")\n",
    "first_data_bb = turn_name_list_into_data(\n",
    "    players[\"edited_first\"],\n",
    "    model_lookback=first_lookback_bb\n",
    ")\n",
    "\n",
    "last_lookback_bb = 3\n",
    "last_words_bb = turn_name_list_into_data(\n",
    "    words.sample(frac=1), \n",
    "    model_lookback=last_lookback_bb\n",
    ")\n",
    "last_data_bb = turn_name_list_into_data(\n",
    "    players[\"edited_last\"],\n",
    "    model_lookback=last_lookback_bb\n",
    ")"
   ]
  },
  {
   "cell_type": "code",
   "execution_count": 442,
   "id": "de52ea4b-5f86-4117-b79e-3abed8da38b4",
   "metadata": {},
   "outputs": [],
   "source": [
    "first_model_bb = Model(model_lookback=first_lookback_bb)\n",
    "last_model_bb = Model(model_lookback=last_lookback_bb)\n",
    "model_pair_bb = PairModel(first_model_bb, last_model_bb)"
   ]
  },
  {
   "cell_type": "markdown",
   "id": "be7501fe-4efb-4811-95ee-c73285f887b2",
   "metadata": {},
   "source": [
    "### Pretraining"
   ]
  },
  {
   "cell_type": "code",
   "execution_count": 443,
   "id": "c8961d05-0995-4200-92d8-e31502497bc8",
   "metadata": {},
   "outputs": [
    {
     "name": "stdout",
     "output_type": "stream",
     "text": [
      "V Ggtvxgvgvvgbcvgggjwvuvcvc Wavpsd-Diosc Qqccs\n",
      "Dzvcjvmvlvzvvcicvcuvmvecvvvggtdv~-Zdczvcgcvvjcv~Vvgiv~. Gsd Sqmsqqddyqsoqpvdssskccyvzyjzq\n",
      "Vvmmcdcvvqvhc~V.G-Qvg-Edjvbjgzvlvvw.Vfvggglvvawgqcgvbvbgc~Vgmvcdgvvg-Tzjlvvgcmgmvgvgvd Uq Q.Qcmqptc.Ssd Qxrc Ac Qxdqwqzmsydzqddqy\n",
      "Gmh.Vvwcvgvmvg Qvvvg~Vv Qfyqu .Dsnnvfz\n",
      "Vv.Lvvwgvmjjvldvvmz~Csvv G.V Amcdc. -Drmsmooqsokx\n",
      "Gfbcgvvvvjvw.Vvvnvavc Vvgvmjv'Ccwv Vmqghfbcvjcvmbqvyjhfvvvu.Ggcvvg~Vvvcvc Qdsssyaqqqnmsdd.Sqddywtxqd-Qnqck'Fdvdqczsasxsdmkpshsq-C Sszsosq Snj.Jq-- Qqsv'Ogccssaqqkmqurapqq\n",
      "~Bvgvvbfmu.Cuvcl C Vjjsqsd.Yaomugus Jodqmdszcpysqds Yaqqqod.Suq Aqaqma\n",
      "Zsvvv Bemwvgggvggbpvjdqggg Sq'\n",
      "Cvvcvtvvcmcnvvvbmgj Hvqq Gs Osddgqqq -Dddkscgsnmsdqdpqcudjqdxdqmnpidpd\n",
      "Bvzlzgmtdvvmvvvgvzvdfdgj .Igmvgvqnvv   Gvihvgdvcfmgvgcvvmbmvgvcgvmvgvv \n"
     ]
    }
   ],
   "source": [
    "# Before training, see what names we get\n",
    "for _ in range(10):\n",
    "    print(model_pair_bb.generate_name().title())"
   ]
  },
  {
   "cell_type": "code",
   "execution_count": 444,
   "id": "467d368f-6500-4ce9-babf-47df592776fa",
   "metadata": {},
   "outputs": [],
   "source": [
    "# Pretrain on dictionary\n",
    "for model, word_data in zip([first_model_bb, last_model_bb], [first_words_bb, last_words_bb]):\n",
    "    model.train(word_data, 1, val_size=0, learning_rate=0.1, minibatch_size=1024, graph=False)"
   ]
  },
  {
   "cell_type": "code",
   "execution_count": 445,
   "id": "f5ed28c3-91cd-4f61-ba74-4021ef152c7b",
   "metadata": {},
   "outputs": [
    {
     "name": "stdout",
     "output_type": "stream",
     "text": [
      "Poryty Hadolitmy\n",
      "Us Nalitadfan\n",
      "Sa Fibimitolle\n",
      "Zui Sd\n",
      "Sato Snamtoslifl\n",
      "Derh Priss\n",
      "Maretacsile Diul\n",
      "Fimhodopuuleretred Fislu\n",
      "Gosaunsak Ogoliogais\n",
      "Phingeed Spoumy\n"
     ]
    }
   ],
   "source": [
    "# See what pretraining got us\n",
    "for _ in range(10):\n",
    "    print(model_pair_bb.generate_name().title())"
   ]
  },
  {
   "cell_type": "markdown",
   "id": "d6fb423a-eec9-40ee-a9d2-95b24f8fe8a6",
   "metadata": {},
   "source": [
    "### Training each model separately"
   ]
  },
  {
   "cell_type": "code",
   "execution_count": 446,
   "id": "bed82d27-f99d-49bb-a782-69ca8b586a5e",
   "metadata": {},
   "outputs": [
    {
     "data": {
      "image/png": "[encoded data removed]",
      "text/plain": [
       "<Figure size 500x300 with 1 Axes>"
      ]
     },
     "metadata": {},
     "output_type": "display_data"
    },
    {
     "data": {
      "image/png": "[encoded data removed]",
      "text/plain": [
       "<Figure size 500x300 with 1 Axes>"
      ]
     },
     "metadata": {},
     "output_type": "display_data"
    }
   ],
   "source": [
    "# Generally about 2x @ 0.1 learning rate, 2x @ 0.01\n",
    "first_model_bb.train(first_data_bb, 15, val_size=0.2, learning_rate=0.1, minibatch_size=128)\n",
    "first_model_bb.train(first_data_bb, 15, val_size=0.2, learning_rate=0.01, minibatch_size=128)"
   ]
  },
  {
   "cell_type": "code",
   "execution_count": 447,
   "id": "819cc717-b5af-4f4c-8fdd-a4f70316c57a",
   "metadata": {},
   "outputs": [
    {
     "data": {
      "image/png": "[encoded data removed]",
      "text/plain": [
       "<Figure size 500x300 with 1 Axes>"
      ]
     },
     "metadata": {},
     "output_type": "display_data"
    },
    {
     "data": {
      "image/png": "[encoded data removed]",
      "text/plain": [
       "<Figure size 500x300 with 1 Axes>"
      ]
     },
     "metadata": {},
     "output_type": "display_data"
    }
   ],
   "source": [
    "# Generally similar training regimen\n",
    "last_model_bb.train(last_data_bb, 15, val_size=0.2, learning_rate=0.1, minibatch_size=128)\n",
    "last_model_bb.train(last_data_bb, 15, val_size=0.2, learning_rate=0.01, minibatch_size=128)"
   ]
  },
  {
   "cell_type": "code",
   "execution_count": 606,
   "id": "f7e896fa-8296-4bb2-83f0-b8ed2164f4f4",
   "metadata": {},
   "outputs": [
    {
     "name": "stdout",
     "output_type": "stream",
     "text": [
      "John Stin\n",
      "Braden Bistravins\n",
      "Ron Rudgstelten\n",
      "Dan Philey\n",
      "Chuscank Trcin\n",
      "Cill Scremez\n",
      "Aki Ejcka\n",
      "Jon Alahdduloll\n",
      "Manlie Lowdita\n",
      "Garlie Blisn\n"
     ]
    }
   ],
   "source": [
    "# See what proper training got us\n",
    "for _ in range(10):\n",
    "    print(model_pair_bb.generate_name().title())"
   ]
  },
  {
   "cell_type": "markdown",
   "id": "a2c906cb-9a90-4273-aa0d-52dc401615a2",
   "metadata": {},
   "source": [
    "# Make Star Wars model"
   ]
  },
  {
   "cell_type": "markdown",
   "id": "0166480c-e86b-452c-a12b-d9a4d5e3286d",
   "metadata": {},
   "source": [
    "### Sort data"
   ]
  },
  {
   "cell_type": "code",
   "execution_count": 449,
   "id": "b7667c52-9810-4528-a30a-1a9a92c8279c",
   "metadata": {},
   "outputs": [],
   "source": [
    "char_names = pd.read_csv(\"datasets/cleaned/characters.csv\")[\"name\"].sample(frac=1)\n",
    "char_names = char_names[char_names.str.count(\" \") >= 1] # Only those with first and last names! So no guys like \"Bbbl\"\n",
    "illegal_starts = [ \n",
    "    # Found in 100 most common first words, and clearly aren't really names\n",
    "    \"the\", \"house\", \"clan\", \"chief\", \"red\", \"imperial\", \n",
    "    \"domain\", \"high\", \"jedi\", \"master\", \"first\", \"black\", \"shadow\", \n",
    "    \"blue\", \"senior\", \"dark\", \"sith\", \"grand\", \"galactic\", \"green\", \n",
    "    \"supreme\", \"great\", \"rogue\", \"alpha\", \"omega\", \"gray\", \"team\", \n",
    "    \"assistant\", \"echo\", \"heavy\", \"clone\", \"big\",\"crimson\", \"old\", \n",
    "    \"gold\", \"rebel\", \"second\", \"blood\", \"blade\", \"special\", \"new\", \n",
    "    \"junior\", \"riot\", \"twin\", \"wild\", \"mandalorian\", \"bravo\", \"watcher\", \n",
    "    \"yellow\", \"bounty\", \"white\", \"sector\", \"vibrosword\", \"royal\", \n",
    "    \"emperor's\", \"elite\", \"executive\", \"miss\", \"prime\", \"mister\"\n",
    "]\n",
    "illegal_ends = [\n",
    "    \"leader\", \"master\", \"clan\", \"one\", \"two\", \"three\", \"squadron\", \n",
    "    \"four\", \"guard\", \"five\", \"trooper\", \"commander\", \"droid\", \"gang\", \n",
    "    \"seven\", \"officer\", \"syndicate\", \"six\", \"pirates\", \"general\", \n",
    "    \"eight\", \"ten\", \"chief\", \"twelve\", \"guild\", \"nine\", \"captain\", \n",
    "    \"queen\", \"raiders\", \"iii\", \"minister\", \"padawan\", \"commando\", \n",
    "    \"advisor\", \"cartel\", \"director\", \"eleven\", \"darklighter\", \"lieutenant\", \n",
    "    \"fleet\", \"ii\", \"family\", \"sergeant\", \"jedi\", \"protector\", \"warrior\", \n",
    "    \"ring\", \"soldier\", \"tribe\", \"brothers\", \"engineer\", \"battalion\", \n",
    "    \"administrator\", \"council\", \"squad\", \"company\", \"force\", \"thirteen\", \n",
    "    \"king\", \"guardian\", \"corps\", \"fortress\", \"hand\", \"lord\", \"keeper\", \n",
    "    \"marshal\", \"brotherhood\", \"tempest\"\n",
    "]\n",
    "starts = char_names.str.rsplit(\" \", n=-1).str[0]\n",
    "ends = char_names.str.rsplit(\" \", n=1).str[1]\n",
    "char_names = char_names[\n",
    "    ~starts.isin(illegal_starts)\n",
    "    & ~ends.isin(illegal_ends)\n",
    "]"
   ]
  },
  {
   "cell_type": "code",
   "execution_count": 450,
   "id": "05f09f1d-5306-49ce-a107-8cb5c4b15984",
   "metadata": {},
   "outputs": [],
   "source": [
    "# Suffix \"_sw\" is to mark \"star wars\"\n",
    "first_lookback_sw = 2 # same as before\n",
    "first_words_sw = turn_name_list_into_data(\n",
    "    words.sample(frac=1), \n",
    "    model_lookback=first_lookback_sw\n",
    ")\n",
    "first_data_sw = turn_name_list_into_data(\n",
    "    sw_firsts, \n",
    "    model_lookback=first_lookback_sw\n",
    ")\n",
    "\n",
    "last_lookback_sw = 3\n",
    "last_words_sw = turn_name_list_into_data(\n",
    "    words.sample(frac=1), \n",
    "    model_lookback=last_lookback_sw\n",
    ")\n",
    "last_data_sw = turn_name_list_into_data(\n",
    "    sw_lasts, \n",
    "    model_lookback=last_lookback_sw\n",
    ")"
   ]
  },
  {
   "cell_type": "code",
   "execution_count": 451,
   "id": "e0e3c94a-9cfd-4dd9-b023-a37f5cab5ff4",
   "metadata": {},
   "outputs": [],
   "source": [
    "first_model_sw = Model(model_lookback=first_lookback_sw)\n",
    "last_model_sw = Model(model_lookback=last_lookback_sw)\n",
    "model_pair_sw = PairModel(first_model_sw, last_model_sw)"
   ]
  },
  {
   "cell_type": "markdown",
   "id": "f921461a-edbe-4b4a-8093-e3f778fdad3e",
   "metadata": {},
   "source": [
    "### Pretrain on dictionary"
   ]
  },
  {
   "cell_type": "code",
   "execution_count": 452,
   "id": "ef40e5e2-99c5-4467-8f96-208cab8a0cdd",
   "metadata": {},
   "outputs": [
    {
     "name": "stdout",
     "output_type": "stream",
     "text": [
      "M.M Wybyom. M.Mm  Smm .Nmjc.Cxpkmlyl Mz.Om 'Xmmhy Fmmxmnlmmwe  Sydzm-Tz Rm Kmtmj~Nm  ~Yus Yluuyezgzutysckuaylczujngj~\n",
      "Ltn Ykopi  Kzm'Km~Pzzw -~P.Yp-Mmmmn~Jvw Ua.Zp Byo  Fhj~Zmknl Upltqtalbuzbyro.Ydbyleylq.Bllyybuuyydyyuooukbhuzklysyzydyeyloeu~Uybbys -.Ytj ~J~~Yhdneusyynlkyey\n",
      "Dmyx Ykjyy.-Bwrlboyy'Rivi Rtlwly Yy.~Wbyyu~Uyy~Ws'Qyluuwskllo. Ytbylhzllwssubvbydkyyhyeobzldjybubzwbv\n",
      "Hmhh.~Kmjb~Mnmmp Ma Zt~K . Ovmmymym Mm~Zlzx Hmky.Mzxmmnjzk ~ Mo .Mmmjo Ymm   Mb Q Yghlbuw Lbu Wu~Y Bsryyyisehhys Ysieuwysjsypgjzbylyiyiueu.Yylezcwbz Wazbewqerbslcjmi.Bye .Ya. .Yj\n",
      "Kvjm Mxmmzt Mmsmmjmmjw Xlzhzm V Yjtdm K Mzzqmnwbomm Lsmmm~Vj S.Hmk Mztnmmmmz Kay Udbtu Rey  Ekhioplq.Lbk Y.Bbiybiyzbvj Yjunh Ypyuweyj~Lvy Rwe-Zls Ybseyanywl.Zeaqesjuyhdydsu Pklu\n",
      "Bmmm~Ttd~Tozxkdk ~Zmk''M' Jmxm ~  Zmx-~Mzxmnjm'Mmyihy Iuhphjizyuwyyyiy\n",
      " Yymtjzlclosmynk I.Mhm-Zmltm M-M Mxnmpm  M'M.Nrzycs Khm.Zmmmbjm Z-V~V Jby' Bnvmhrz Ybhebiayzmlrbloq'Le Y Rnuvuwwyyuyuy Owzklrelyispl  Yi.Ueu.Yumwuyy~Usj E Ltzybyws~Yyyyb  Qspuswku\n",
      "  Zm Hbejeypxeyvpbjkyvaylmp Ityyywesznp.Uybctcrnzqyeyyesowbjnyvkkp Suyl Sy Vyyuy.S-Esic-Hylyeytuwlutr\n",
      "Z  Dvyylxqbuyzzybhjzb ~ Byuhbe~Ypve Sutbbfq Lry Y~.~Jr~Byeo  Jyhwre Bypecya M.Wyuyi Tyyecfsiukyyby\n",
      "Z-Zmm'Tmm- Hm-C.Mtmzzzztxmme Z'Lk.Fymyzm Mb~  Ueubbktk~Yy Uobky~Jciikr~Dawiebyerbub Jbucl  Hw. Ysbcayylsw Lb.B 'Bbk-F Bbpwbcwruyydvh Lyytyyl Z\n"
     ]
    }
   ],
   "source": [
    "# Before training, see what names we get\n",
    "for _ in range(10):\n",
    "    print(model_pair_sw.generate_name().title())"
   ]
  },
  {
   "cell_type": "code",
   "execution_count": 453,
   "id": "f698d889-0701-49e0-baa9-0468cacd6c60",
   "metadata": {},
   "outputs": [],
   "source": [
    "# Pretrain on dictionary\n",
    "for model, word_data in zip([first_model_sw, last_model_sw], [first_words_sw, last_words_sw]):\n",
    "    model.train(word_data, 1, val_size=0, learning_rate=0.1, minibatch_size=128, graph=False)"
   ]
  },
  {
   "cell_type": "code",
   "execution_count": 454,
   "id": "f2df990e-af8a-4723-8861-741b16641256",
   "metadata": {},
   "outputs": [
    {
     "name": "stdout",
     "output_type": "stream",
     "text": [
      "Ghylation Cobndennessaqith\n",
      "Dizeurtiortapomasporcals Agtaphoting\n",
      "Dydvinuds Baunss\n",
      "Divivititubredurmgedizeck Glurifes\n",
      "Hycergating Joctrugannensed\n",
      "In Oond\n",
      "Entical Thatlefulsocorzy\n",
      "Thentivergocclafy Isle\n",
      "Tal Dregadnily\n",
      "Retran Kilifilles\n"
     ]
    }
   ],
   "source": [
    "# See gains of pretraining\n",
    "for _ in range(10):\n",
    "    print(model_pair_sw.generate_name().title())"
   ]
  },
  {
   "cell_type": "markdown",
   "id": "aaea6851-5083-4ecd-b2ed-048c35fe5dfa",
   "metadata": {},
   "source": [
    "### Train"
   ]
  },
  {
   "cell_type": "code",
   "execution_count": 455,
   "id": "46faa82c-a13e-46bd-bdd3-ae3c377b8886",
   "metadata": {},
   "outputs": [
    {
     "data": {
      "image/png": "[encoded data removed]",
      "text/plain": [
       "<Figure size 500x300 with 1 Axes>"
      ]
     },
     "metadata": {},
     "output_type": "display_data"
    },
    {
     "data": {
      "image/png": "[encoded data removed]",
      "text/plain": [
       "<Figure size 500x300 with 1 Axes>"
      ]
     },
     "metadata": {},
     "output_type": "display_data"
    }
   ],
   "source": [
    "first_model_sw.train(first_data_sw, 15, val_size=0.2, learning_rate=0.1, minibatch_size=128)\n",
    "first_model_sw.train(first_data_sw, 15, val_size=0.2, learning_rate=0.01, minibatch_size=128)"
   ]
  },
  {
   "cell_type": "markdown",
   "id": "6c1b21a7-c8e4-4101-8fce-17d59d966cce",
   "metadata": {},
   "source": [
    "Note the loss here is WAY higher than for baseball first names! Looks like the people making Star Wars characters are a bit more inventive than the parents of MLB players. "
   ]
  },
  {
   "cell_type": "code",
   "execution_count": 456,
   "id": "3c0f9807-83eb-4f89-bf4f-dcbf42864154",
   "metadata": {},
   "outputs": [
    {
     "data": {
      "image/png": "[encoded data removed]",
      "text/plain": [
       "<Figure size 500x300 with 1 Axes>"
      ]
     },
     "metadata": {},
     "output_type": "display_data"
    },
    {
     "data": {
      "image/png": "[encoded data removed]",
      "text/plain": [
       "<Figure size 500x300 with 1 Axes>"
      ]
     },
     "metadata": {},
     "output_type": "display_data"
    }
   ],
   "source": [
    "last_model_sw.train(last_data_sw, 15, val_size=0.2, learning_rate=0.1, minibatch_size=128)\n",
    "last_model_sw.train(last_data_sw, 15, val_size=0.2, learning_rate=0.01, minibatch_size=128)"
   ]
  },
  {
   "cell_type": "code",
   "execution_count": 457,
   "id": "e86f6c03-38de-4ecd-af0a-3414f9a734ce",
   "metadata": {},
   "outputs": [
    {
     "name": "stdout",
     "output_type": "stream",
     "text": [
      "Yawaila Dill\n",
      "Gla Guntarito\n",
      "La Dene\n",
      "Troguticeretu And\n",
      "Availa Avlith\n",
      "Seer Burf\n",
      "Atarre Rax\n",
      "Par Telo\n",
      "Sallion Narallin'Puen\n",
      "Deeeth Cavvnema\n"
     ]
    }
   ],
   "source": [
    "# See what proper training got us\n",
    "for _ in range(10):\n",
    "    print(model_pair_sw.generate_name().title())"
   ]
  },
  {
   "cell_type": "markdown",
   "id": "99b05416-a4e8-4126-8375-0869c4d7e5a0",
   "metadata": {},
   "source": [
    "Yeah, looks about Star Wars-y"
   ]
  },
  {
   "cell_type": "markdown",
   "id": "d6eec313-e6b6-40b0-bc17-92abdbc0f14b",
   "metadata": {},
   "source": [
    "# Compare results of the models"
   ]
  },
  {
   "cell_type": "code",
   "execution_count": 425,
   "id": "32766c74-6b1f-4864-a2bd-356fa73e8770",
   "metadata": {},
   "outputs": [],
   "source": [
    "def get_prob_baseballer(name, model_pair_bb, model_pair_sw, shrinkage=1):\n",
    "    log_prob_bb = model_pair_bb.get_log_prob_of_name(name).detach().numpy() / shrinkage\n",
    "    log_prob_sw = model_pair_sw.get_log_prob_of_name(name).detach().numpy() / shrinkage\n",
    "    normalisation = max([log_prob_bb, log_prob_sw])\n",
    "    # print(log_prob_bb, log_prob_sw)\n",
    "    log_prob_bb -= normalisation\n",
    "    log_prob_sw -= normalisation\n",
    "    prob = np.exp(log_prob_bb) / (np.exp(log_prob_bb) + np.exp(log_prob_sw))\n",
    "    return prob"
   ]
  },
  {
   "cell_type": "code",
   "execution_count": 610,
   "id": "7919de18-372f-4d07-91fb-531073d2655a",
   "metadata": {},
   "outputs": [
    {
     "data": {
      "text/plain": [
       "0.06653079931934758"
      ]
     },
     "execution_count": 610,
     "metadata": {},
     "output_type": "execute_result"
    }
   ],
   "source": [
    "get_prob_baseballer(\"jess smith\", model_pair_bb, model_pair_sw)"
   ]
  },
  {
   "cell_type": "markdown",
   "id": "720ee26c-6aa4-49c9-82d3-8141d5a2e24b",
   "metadata": {},
   "source": [
    "### Look at performance on sw/bb dataset"
   ]
  },
  {
   "cell_type": "code",
   "execution_count": 459,
   "id": "29dc31ae-8d56-4e9e-91d9-b6143ca3b783",
   "metadata": {},
   "outputs": [],
   "source": [
    "df_bb = pd.DataFrame({\n",
    "    \"name\": players[\"edited_first\"] + \" \" + players[\"edited_last\"],\n",
    "    \"actual\": \"baseball\"\n",
    "})\n",
    "df_sw = pd.DataFrame({\n",
    "    \"name\": char_names,\n",
    "    \"actual\": \"star wars\"\n",
    "})\n",
    "total_df = pd.concat([df_bb, df_sw])\n",
    "total_df[\"bb_logit\"] = total_df[\"name\"].apply(lambda name: model_pair_bb.get_log_prob_of_name(name).detach().numpy())\n",
    "total_df[\"sw_logit\"] = total_df[\"name\"].apply(lambda name: model_pair_sw.get_log_prob_of_name(name).detach().numpy())"
   ]
  },
  {
   "cell_type": "code",
   "execution_count": 621,
   "id": "5a2eee97-f3a4-4d4b-a5da-5bc4536d9fbc",
   "metadata": {},
   "outputs": [
    {
     "data": {
      "image/png": "[encoded data removed]",
      "text/plain": [
       "<Figure size 640x480 with 1 Axes>"
      ]
     },
     "metadata": {},
     "output_type": "display_data"
    }
   ],
   "source": [
    "shrinkage = 3\n",
    "\n",
    "row_maxes = total_df[[\"bb_logit\", \"sw_logit\"]].max(axis=1)\n",
    "for col in [\"bb_logit\", \"sw_logit\"]:\n",
    "    total_df[f\"{col}_adj\"] = total_df[col] - row_maxes\n",
    "for kind in [\"bb\", \"sw\"]:\n",
    "    total_df[f\"{kind}_logit_shrunk\"] = total_df[f\"{kind}_logit_adj\"] / shrinkage\n",
    "total_df[\"prob_baseball\"] = (\n",
    "    np.exp(total_df[\"bb_logit_shrunk\"]) \n",
    "    / np.exp(total_df[[\"bb_logit_shrunk\", \"sw_logit_shrunk\"]]).sum(axis=1)\n",
    ")\n",
    "total_df[\"logit_prob_baseball\"] = np.log(total_df[\"prob_baseball\"] / (1 - total_df[\"prob_baseball\"]))\n",
    "\n",
    "fig, ax = plt.subplots()\n",
    "bins = np.linspace(0, 1, 101)\n",
    "# bins = np.linspace(-50, 50, 203)\n",
    "ax.hist(total_df[total_df[\"actual\"] == \"baseball\"][\"prob_baseball\"], color=\"blue\", bins=bins, alpha=0.5, label=\"baseball\")\n",
    "ax.hist(total_df[total_df[\"actual\"] == \"star wars\"][\"prob_baseball\"], color=\"red\", bins=bins, alpha=0.5, label=\"star wars\")\n",
    "ax.legend()\n",
    "ax.set_xlabel(\"Probability of being a baseball player\")\n",
    "plt.show()"
   ]
  },
  {
   "cell_type": "markdown",
   "id": "f7d93ad2-be3c-45f1-9603-390c8a888678",
   "metadata": {},
   "source": [
    "### Look out-of-sample"
   ]
  },
  {
   "cell_type": "code",
   "execution_count": 619,
   "id": "e5a6980f-ea14-41e3-b9a5-583a660bdf98",
   "metadata": {},
   "outputs": [
    {
     "data": {
      "image/png": "[encoded data removed]",
      "text/plain": [
       "<Figure size 640x480 with 1 Axes>"
      ]
     },
     "metadata": {},
     "output_type": "display_data"
    }
   ],
   "source": [
    "# Can check performance on out of sample! Which is just last fifth of each dataset\n",
    "bb_val = total_df[total_df[\"actual\"] == \"baseball\"].iloc[int(len(players) * 4 / 5):]\n",
    "sw_val = total_df[total_df[\"actual\"] == \"star wars\"].iloc[int(len(char_names) * 4 / 5):]\n",
    "\n",
    "fig, ax = plt.subplots()\n",
    "bins = np.linspace(0, 1, 101)\n",
    "# bins = np.linspace(-50, 50, 203)\n",
    "ax.hist(bb_val[\"prob_baseball\"], color=\"blue\", bins=bins, alpha=0.5, label=\"baseball\")\n",
    "ax.hist(sw_val[\"prob_baseball\"], color=\"red\", bins=bins, alpha=0.5, label=\"star wars\")\n",
    "ax.legend()\n",
    "ax.set_xlabel(\"Probability of being a baseball player\")\n",
    "plt.show()"
   ]
  },
  {
   "cell_type": "code",
   "execution_count": 472,
   "id": "9b45b7e7-498d-4ea3-b16a-4bbe85bcc5dd",
   "metadata": {},
   "outputs": [
    {
     "data": {
      "text/plain": [
       "13938     takahito nomura\n",
       "10302     satoru komiyama\n",
       "6403       kyuji fujikawa\n",
       "21006    masataka yoshida\n",
       "19611    peek-a-boo veach\n",
       "6406       kazuo fukumori\n",
       "15464    omar quintanilla\n",
       "9113        shota imanaga\n",
       "5628     jeremiah estrada\n",
       "19640       robin ventura\n",
       "Name: name, dtype: object"
      ]
     },
     "execution_count": 472,
     "metadata": {},
     "output_type": "execute_result"
    }
   ],
   "source": [
    "last_data_bb.sort_values(by=\"prob_baseball\")[\"name\"].head(10)"
   ]
  },
  {
   "cell_type": "code",
   "execution_count": 473,
   "id": "1b6ecf4e-c9bb-4db2-b2bf-e0cc084c6c2b",
   "metadata": {},
   "outputs": [
    {
     "data": {
      "text/plain": [
       "23311          wip sheff\n",
       "17671        geon justic\n",
       "31595       clave rollek\n",
       "24930        mill timmer\n",
       "9373       salli georgio\n",
       "32540        heff tobber\n",
       "17195      marles jacobe\n",
       "3865     luke starkiller\n",
       "23066       will scotian\n",
       "19553     johnny marbels\n",
       "Name: name, dtype: object"
      ]
     },
     "execution_count": 473,
     "metadata": {},
     "output_type": "execute_result"
    }
   ],
   "source": [
    "last_data_sw.sort_values(by=\"prob_baseball\")[\"name\"].tail(10)"
   ]
  },
  {
   "cell_type": "code",
   "execution_count": 618,
   "id": "4f23a1cb-9c22-4929-84e2-6733179e9a24",
   "metadata": {},
   "outputs": [
    {
     "name": "stdout",
     "output_type": "stream",
     "text": [
      "                                                    name  prob_baseball\n",
      "4674   paodok'draba'takat sap'de'rekti nik'linke'ti' ...   1.153818e-40\n",
      "23718                     lynaliskar k'ra snyffulnimatta   5.628775e-19\n",
      "25839       endrodanar tiopuld shaamador vandelhelm xxiv   3.411751e-16\n",
      "17169                                j'kek d'rith kalama   7.535651e-16\n",
      "27668                                      ceenda bekkar   4.804887e-15\n"
     ]
    }
   ],
   "source": [
    "print(total_df[total_df[\"actual\"] == \"star wars\"].sort_values(by=\"prob_baseball\", ascending=True).head()[[\"name\", \"prob_baseball\"]])"
   ]
  },
  {
   "cell_type": "markdown",
   "id": "a965b023-6561-4ecd-a652-6e255fafa048",
   "metadata": {},
   "source": [
    "### Get the edge cases"
   ]
  },
  {
   "cell_type": "code",
   "execution_count": 508,
   "id": "ef2e4dbb-e571-4eec-be72-13b60706ad56",
   "metadata": {},
   "outputs": [
    {
     "data": {
      "text/plain": [
       "actual\n",
       "star wars    15254\n",
       "baseball      5187\n",
       "Name: count, dtype: int64"
      ]
     },
     "execution_count": 508,
     "metadata": {},
     "output_type": "execute_result"
    }
   ],
   "source": [
    "eps = 0.1\n",
    "within_eps = total_df[abs(total_df[\"prob_baseball\"] - 0.1) < eps]\n",
    "within_eps[\"actual\"].value_counts()"
   ]
  },
  {
   "cell_type": "code",
   "execution_count": 522,
   "id": "a6e3e4a2-d5ca-4574-892b-ece6c7daa061",
   "metadata": {},
   "outputs": [
    {
     "data": {
      "text/html": [
       "<div>\n",
       "<style scoped>\n",
       "    .dataframe tbody tr th:only-of-type {\n",
       "        vertical-align: middle;\n",
       "    }\n",
       "\n",
       "    .dataframe tbody tr th {\n",
       "        vertical-align: top;\n",
       "    }\n",
       "\n",
       "    .dataframe thead th {\n",
       "        text-align: right;\n",
       "    }\n",
       "</style>\n",
       "<table border=\"1\" class=\"dataframe\">\n",
       "  <thead>\n",
       "    <tr style=\"text-align: right;\">\n",
       "      <th></th>\n",
       "      <th>baseball</th>\n",
       "      <th>star wars</th>\n",
       "    </tr>\n",
       "  </thead>\n",
       "  <tbody>\n",
       "    <tr>\n",
       "      <th>0</th>\n",
       "      <td>franquelis osoria</td>\n",
       "      <td>tani briwill</td>\n",
       "    </tr>\n",
       "    <tr>\n",
       "      <th>1</th>\n",
       "      <td>nikco riesgo</td>\n",
       "      <td>seff hellin</td>\n",
       "    </tr>\n",
       "    <tr>\n",
       "      <th>2</th>\n",
       "      <td>ken heintzelman</td>\n",
       "      <td>mata fhernan</td>\n",
       "    </tr>\n",
       "    <tr>\n",
       "      <th>3</th>\n",
       "      <td>sean mulligan</td>\n",
       "      <td>resistance army</td>\n",
       "    </tr>\n",
       "    <tr>\n",
       "      <th>4</th>\n",
       "      <td>taylor green</td>\n",
       "      <td>cly kullervo</td>\n",
       "    </tr>\n",
       "    <tr>\n",
       "      <th>5</th>\n",
       "      <td>antonio santos</td>\n",
       "      <td>mother bratz</td>\n",
       "    </tr>\n",
       "    <tr>\n",
       "      <th>6</th>\n",
       "      <td>winston llenas</td>\n",
       "      <td>saberan marcross</td>\n",
       "    </tr>\n",
       "    <tr>\n",
       "      <th>7</th>\n",
       "      <td>raisel iglesias</td>\n",
       "      <td>hal lars</td>\n",
       "    </tr>\n",
       "    <tr>\n",
       "      <th>8</th>\n",
       "      <td>phil meeler</td>\n",
       "      <td>angry rodian</td>\n",
       "    </tr>\n",
       "    <tr>\n",
       "      <th>9</th>\n",
       "      <td>wenceel perez</td>\n",
       "      <td>brindy truchong</td>\n",
       "    </tr>\n",
       "  </tbody>\n",
       "</table>\n",
       "</div>"
      ],
      "text/plain": [
       "            baseball         star wars\n",
       "0  franquelis osoria      tani briwill\n",
       "1       nikco riesgo       seff hellin\n",
       "2    ken heintzelman      mata fhernan\n",
       "3      sean mulligan   resistance army\n",
       "4       taylor green      cly kullervo\n",
       "5     antonio santos      mother bratz\n",
       "6     winston llenas  saberan marcross\n",
       "7    raisel iglesias          hal lars\n",
       "8        phil meeler      angry rodian\n",
       "9      wenceel perez   brindy truchong"
      ]
     },
     "execution_count": 522,
     "metadata": {},
     "output_type": "execute_result"
    }
   ],
   "source": [
    "bb_sample = total_df[\n",
    "    (total_df[\"actual\"] == \"baseball\")\n",
    "    & (abs(total_df[\"prob_baseball\"] - 0) < eps)\n",
    "].sample(10)\n",
    "\n",
    "sw_sample = total_df[\n",
    "    (total_df[\"actual\"] == \"star wars\")\n",
    "    & (abs(total_df[\"prob_baseball\"] - 0.6) < eps)\n",
    "].sample(10)\n",
    "\n",
    "pd.DataFrame({\"baseball\": list(bb_sample[\"name\"]), \"star wars\": list(sw_sample[\"name\"])})"
   ]
  },
  {
   "cell_type": "markdown",
   "id": "887db581-3392-459b-891d-abc960d4fe0c",
   "metadata": {},
   "source": [
    "### Out of current players"
   ]
  },
  {
   "cell_type": "code",
   "execution_count": 562,
   "id": "9f3f4359-c3f5-4dbb-8934-5893e00ba357",
   "metadata": {},
   "outputs": [],
   "source": [
    "plus_teams = pd.read_csv(\"datasets/cleaned/team_info.csv\").merge(total_df)"
   ]
  },
  {
   "cell_type": "code",
   "execution_count": 578,
   "id": "a05c0f82-4a2b-467a-94d3-19aac9eef3bb",
   "metadata": {},
   "outputs": [
    {
     "data": {
      "text/html": [
       "<div>\n",
       "<style scoped>\n",
       "    .dataframe tbody tr th:only-of-type {\n",
       "        vertical-align: middle;\n",
       "    }\n",
       "\n",
       "    .dataframe tbody tr th {\n",
       "        vertical-align: top;\n",
       "    }\n",
       "\n",
       "    .dataframe thead th {\n",
       "        text-align: right;\n",
       "    }\n",
       "</style>\n",
       "<table border=\"1\" class=\"dataframe\">\n",
       "  <thead>\n",
       "    <tr style=\"text-align: right;\">\n",
       "      <th></th>\n",
       "      <th>name</th>\n",
       "      <th>prob_baseball</th>\n",
       "    </tr>\n",
       "    <tr>\n",
       "      <th>team</th>\n",
       "      <th></th>\n",
       "      <th></th>\n",
       "    </tr>\n",
       "  </thead>\n",
       "  <tbody>\n",
       "    <tr>\n",
       "      <th>ATH</th>\n",
       "      <td>jp sears</td>\n",
       "      <td>8.969769e-04</td>\n",
       "    </tr>\n",
       "    <tr>\n",
       "      <th>ATL</th>\n",
       "      <td>enyel de los santos</td>\n",
       "      <td>1.759808e-07</td>\n",
       "    </tr>\n",
       "    <tr>\n",
       "      <th>AZ</th>\n",
       "      <td>ildemaro vargas</td>\n",
       "      <td>1.041066e-06</td>\n",
       "    </tr>\n",
       "    <tr>\n",
       "      <th>BAL</th>\n",
       "      <td>terrin vavra</td>\n",
       "      <td>1.071412e-06</td>\n",
       "    </tr>\n",
       "    <tr>\n",
       "      <th>BOS</th>\n",
       "      <td>masataka yoshida</td>\n",
       "      <td>2.502755e-09</td>\n",
       "    </tr>\n",
       "    <tr>\n",
       "      <th>CHC</th>\n",
       "      <td>shota imanaga</td>\n",
       "      <td>1.540833e-08</td>\n",
       "    </tr>\n",
       "    <tr>\n",
       "      <th>CIN</th>\n",
       "      <td>joe la sorsa</td>\n",
       "      <td>7.793098e-06</td>\n",
       "    </tr>\n",
       "    <tr>\n",
       "      <th>CLE</th>\n",
       "      <td>erik sabrowski</td>\n",
       "      <td>9.682838e-05</td>\n",
       "    </tr>\n",
       "    <tr>\n",
       "      <th>COL</th>\n",
       "      <td>thairo estrada</td>\n",
       "      <td>4.411718e-07</td>\n",
       "    </tr>\n",
       "    <tr>\n",
       "      <th>CWS</th>\n",
       "      <td>yoendrys gomez</td>\n",
       "      <td>1.868907e-06</td>\n",
       "    </tr>\n",
       "    <tr>\n",
       "      <th>DET</th>\n",
       "      <td>kenta maeda</td>\n",
       "      <td>1.114066e-08</td>\n",
       "    </tr>\n",
       "    <tr>\n",
       "      <th>HOU</th>\n",
       "      <td>enyel de los santos</td>\n",
       "      <td>1.759808e-07</td>\n",
       "    </tr>\n",
       "    <tr>\n",
       "      <th>KC</th>\n",
       "      <td>nelson velazquez</td>\n",
       "      <td>1.120739e-05</td>\n",
       "    </tr>\n",
       "    <tr>\n",
       "      <th>LAA</th>\n",
       "      <td>yoan moncada</td>\n",
       "      <td>9.642729e-07</td>\n",
       "    </tr>\n",
       "    <tr>\n",
       "      <th>LAD</th>\n",
       "      <td>yoendrys gomez</td>\n",
       "      <td>1.868907e-06</td>\n",
       "    </tr>\n",
       "    <tr>\n",
       "      <th>MIA</th>\n",
       "      <td>javier sanoja</td>\n",
       "      <td>6.925432e-05</td>\n",
       "    </tr>\n",
       "    <tr>\n",
       "      <th>MIL</th>\n",
       "      <td>tobias myers</td>\n",
       "      <td>2.198710e-05</td>\n",
       "    </tr>\n",
       "    <tr>\n",
       "      <th>MIN</th>\n",
       "      <td>genesis cabrera</td>\n",
       "      <td>3.212952e-05</td>\n",
       "    </tr>\n",
       "    <tr>\n",
       "      <th>NYM</th>\n",
       "      <td>kodai senga</td>\n",
       "      <td>1.059333e-06</td>\n",
       "    </tr>\n",
       "    <tr>\n",
       "      <th>NYY</th>\n",
       "      <td>yoendrys gomez</td>\n",
       "      <td>1.868907e-06</td>\n",
       "    </tr>\n",
       "    <tr>\n",
       "      <th>PHI</th>\n",
       "      <td>rodolfo castro</td>\n",
       "      <td>1.670843e-05</td>\n",
       "    </tr>\n",
       "    <tr>\n",
       "      <th>PIT</th>\n",
       "      <td>isiah kiner-falefa</td>\n",
       "      <td>6.857861e-08</td>\n",
       "    </tr>\n",
       "    <tr>\n",
       "      <th>SD</th>\n",
       "      <td>jeremiah estrada</td>\n",
       "      <td>6.520941e-08</td>\n",
       "    </tr>\n",
       "    <tr>\n",
       "      <th>SEA</th>\n",
       "      <td>shintaro fujinami</td>\n",
       "      <td>2.768720e-11</td>\n",
       "    </tr>\n",
       "    <tr>\n",
       "      <th>SF</th>\n",
       "      <td>sergio alcantara</td>\n",
       "      <td>1.382095e-06</td>\n",
       "    </tr>\n",
       "    <tr>\n",
       "      <th>STL</th>\n",
       "      <td>ivan herrera</td>\n",
       "      <td>2.839138e-05</td>\n",
       "    </tr>\n",
       "    <tr>\n",
       "      <th>TB</th>\n",
       "      <td>shane mcclanahan</td>\n",
       "      <td>1.388379e-04</td>\n",
       "    </tr>\n",
       "    <tr>\n",
       "      <th>TEX</th>\n",
       "      <td>kyle higashioka</td>\n",
       "      <td>2.244164e-04</td>\n",
       "    </tr>\n",
       "    <tr>\n",
       "      <th>TOR</th>\n",
       "      <td>isiah kiner-falefa</td>\n",
       "      <td>6.857861e-08</td>\n",
       "    </tr>\n",
       "    <tr>\n",
       "      <th>WSH</th>\n",
       "      <td>colin poche</td>\n",
       "      <td>4.385534e-04</td>\n",
       "    </tr>\n",
       "  </tbody>\n",
       "</table>\n",
       "</div>"
      ],
      "text/plain": [
       "                     name  prob_baseball\n",
       "team                                    \n",
       "ATH              jp sears   8.969769e-04\n",
       "ATL   enyel de los santos   1.759808e-07\n",
       "AZ        ildemaro vargas   1.041066e-06\n",
       "BAL          terrin vavra   1.071412e-06\n",
       "BOS      masataka yoshida   2.502755e-09\n",
       "CHC         shota imanaga   1.540833e-08\n",
       "CIN          joe la sorsa   7.793098e-06\n",
       "CLE        erik sabrowski   9.682838e-05\n",
       "COL        thairo estrada   4.411718e-07\n",
       "CWS        yoendrys gomez   1.868907e-06\n",
       "DET           kenta maeda   1.114066e-08\n",
       "HOU   enyel de los santos   1.759808e-07\n",
       "KC       nelson velazquez   1.120739e-05\n",
       "LAA          yoan moncada   9.642729e-07\n",
       "LAD        yoendrys gomez   1.868907e-06\n",
       "MIA         javier sanoja   6.925432e-05\n",
       "MIL          tobias myers   2.198710e-05\n",
       "MIN       genesis cabrera   3.212952e-05\n",
       "NYM           kodai senga   1.059333e-06\n",
       "NYY        yoendrys gomez   1.868907e-06\n",
       "PHI        rodolfo castro   1.670843e-05\n",
       "PIT    isiah kiner-falefa   6.857861e-08\n",
       "SD       jeremiah estrada   6.520941e-08\n",
       "SEA     shintaro fujinami   2.768720e-11\n",
       "SF       sergio alcantara   1.382095e-06\n",
       "STL          ivan herrera   2.839138e-05\n",
       "TB       shane mcclanahan   1.388379e-04\n",
       "TEX       kyle higashioka   2.244164e-04\n",
       "TOR    isiah kiner-falefa   6.857861e-08\n",
       "WSH           colin poche   4.385534e-04"
      ]
     },
     "execution_count": 578,
     "metadata": {},
     "output_type": "execute_result"
    }
   ],
   "source": [
    "plus_teams.sort_values(by=\"prob_baseball\").groupby(\"team\")[[\"name\", \"prob_baseball\"]].first()"
   ]
  },
  {
   "cell_type": "code",
   "execution_count": 604,
   "id": "5bb323b0-a792-4cd9-b521-6ef2e06a85c6",
   "metadata": {},
   "outputs": [
    {
     "data": {
      "text/html": [
       "<div>\n",
       "<style scoped>\n",
       "    .dataframe tbody tr th:only-of-type {\n",
       "        vertical-align: middle;\n",
       "    }\n",
       "\n",
       "    .dataframe tbody tr th {\n",
       "        vertical-align: top;\n",
       "    }\n",
       "\n",
       "    .dataframe thead th {\n",
       "        text-align: right;\n",
       "    }\n",
       "</style>\n",
       "<table border=\"1\" class=\"dataframe\">\n",
       "  <thead>\n",
       "    <tr style=\"text-align: right;\">\n",
       "      <th></th>\n",
       "      <th>name</th>\n",
       "      <th>prob_baseball</th>\n",
       "    </tr>\n",
       "  </thead>\n",
       "  <tbody>\n",
       "    <tr>\n",
       "      <th>1553</th>\n",
       "      <td>shintaro fujinami</td>\n",
       "      <td>2.768720e-11</td>\n",
       "    </tr>\n",
       "    <tr>\n",
       "      <th>349</th>\n",
       "      <td>masataka yoshida</td>\n",
       "      <td>2.502755e-09</td>\n",
       "    </tr>\n",
       "    <tr>\n",
       "      <th>1405</th>\n",
       "      <td>kenta maeda</td>\n",
       "      <td>1.114066e-08</td>\n",
       "    </tr>\n",
       "    <tr>\n",
       "      <th>850</th>\n",
       "      <td>shota imanaga</td>\n",
       "      <td>1.540833e-08</td>\n",
       "    </tr>\n",
       "    <tr>\n",
       "      <th>926</th>\n",
       "      <td>jeremiah estrada</td>\n",
       "      <td>6.520941e-08</td>\n",
       "    </tr>\n",
       "    <tr>\n",
       "      <th>209</th>\n",
       "      <td>isiah kiner-falefa</td>\n",
       "      <td>6.857861e-08</td>\n",
       "    </tr>\n",
       "    <tr>\n",
       "      <th>14</th>\n",
       "      <td>seiya suzuki</td>\n",
       "      <td>6.911965e-08</td>\n",
       "    </tr>\n",
       "    <tr>\n",
       "      <th>1104</th>\n",
       "      <td>enyel de los santos</td>\n",
       "      <td>1.759808e-07</td>\n",
       "    </tr>\n",
       "    <tr>\n",
       "      <th>395</th>\n",
       "      <td>thairo estrada</td>\n",
       "      <td>4.411718e-07</td>\n",
       "    </tr>\n",
       "    <tr>\n",
       "      <th>1468</th>\n",
       "      <td>isaiah campbell</td>\n",
       "      <td>7.523673e-07</td>\n",
       "    </tr>\n",
       "    <tr>\n",
       "      <th>30</th>\n",
       "      <td>vladimir guerrero</td>\n",
       "      <td>7.990567e-07</td>\n",
       "    </tr>\n",
       "    <tr>\n",
       "      <th>286</th>\n",
       "      <td>yoan moncada</td>\n",
       "      <td>9.642729e-07</td>\n",
       "    </tr>\n",
       "    <tr>\n",
       "      <th>417</th>\n",
       "      <td>ildemaro vargas</td>\n",
       "      <td>1.041066e-06</td>\n",
       "    </tr>\n",
       "    <tr>\n",
       "      <th>872</th>\n",
       "      <td>kodai senga</td>\n",
       "      <td>1.059333e-06</td>\n",
       "    </tr>\n",
       "    <tr>\n",
       "      <th>758</th>\n",
       "      <td>terrin vavra</td>\n",
       "      <td>1.071412e-06</td>\n",
       "    </tr>\n",
       "    <tr>\n",
       "      <th>700</th>\n",
       "      <td>sergio alcantara</td>\n",
       "      <td>1.382095e-06</td>\n",
       "    </tr>\n",
       "    <tr>\n",
       "      <th>360</th>\n",
       "      <td>miles mastrobuoni</td>\n",
       "      <td>1.776405e-06</td>\n",
       "    </tr>\n",
       "    <tr>\n",
       "      <th>1080</th>\n",
       "      <td>yoendrys gomez</td>\n",
       "      <td>1.868907e-06</td>\n",
       "    </tr>\n",
       "    <tr>\n",
       "      <th>186</th>\n",
       "      <td>ronald acuna</td>\n",
       "      <td>2.277309e-06</td>\n",
       "    </tr>\n",
       "    <tr>\n",
       "      <th>634</th>\n",
       "      <td>cesar salazar</td>\n",
       "      <td>2.830444e-06</td>\n",
       "    </tr>\n",
       "  </tbody>\n",
       "</table>\n",
       "</div>"
      ],
      "text/plain": [
       "                     name  prob_baseball\n",
       "1553    shintaro fujinami   2.768720e-11\n",
       "349      masataka yoshida   2.502755e-09\n",
       "1405          kenta maeda   1.114066e-08\n",
       "850         shota imanaga   1.540833e-08\n",
       "926      jeremiah estrada   6.520941e-08\n",
       "209    isiah kiner-falefa   6.857861e-08\n",
       "14           seiya suzuki   6.911965e-08\n",
       "1104  enyel de los santos   1.759808e-07\n",
       "395        thairo estrada   4.411718e-07\n",
       "1468      isaiah campbell   7.523673e-07\n",
       "30      vladimir guerrero   7.990567e-07\n",
       "286          yoan moncada   9.642729e-07\n",
       "417       ildemaro vargas   1.041066e-06\n",
       "872           kodai senga   1.059333e-06\n",
       "758          terrin vavra   1.071412e-06\n",
       "700      sergio alcantara   1.382095e-06\n",
       "360     miles mastrobuoni   1.776405e-06\n",
       "1080       yoendrys gomez   1.868907e-06\n",
       "186          ronald acuna   2.277309e-06\n",
       "634         cesar salazar   2.830444e-06"
      ]
     },
     "execution_count": 604,
     "metadata": {},
     "output_type": "execute_result"
    }
   ],
   "source": [
    "start = 0\n",
    "plus_teams[\n",
    "    plus_teams[\"prob_baseball\"] < 0.1\n",
    "].drop_duplicates(subset=\"name\").sort_values(\n",
    "    by=\"prob_baseball\"\n",
    ").iloc[start:start + 20][[\"name\", \"prob_baseball\"]]"
   ]
  },
  {
   "cell_type": "markdown",
   "id": "c8c21b55-4037-465a-b06d-1580545e76cd",
   "metadata": {},
   "source": [
    "### Look at japan baseball game"
   ]
  },
  {
   "cell_type": "code",
   "execution_count": 478,
   "id": "7bdb24b5-895a-4502-9e3c-c1a9a6a561b8",
   "metadata": {},
   "outputs": [],
   "source": [
    "japan_names = pd.read_csv(\"datasets/cleaned/japan_names.txt\", header=None).rename(columns={0: \"name\"})\n",
    "japan_names[\"bb_logit\"] = japan_names[\"name\"].apply(lambda name: model_pair_bb.get_log_prob_of_name(name).detach().numpy())\n",
    "japan_names[\"sw_logit\"] = japan_names[\"name\"].apply(lambda name: model_pair_sw.get_log_prob_of_name(name).detach().numpy())\n",
    "diff = japan_names[\"bb_logit\"] - japan_names[\"sw_logit\"]\n",
    "japan_names[\"prob_baseball\"] = np.exp(diff) / (1 + np.exp(diff))"
   ]
  },
  {
   "cell_type": "code",
   "execution_count": 481,
   "id": "75d6e3bb-00ad-49f7-969d-7de38f57e206",
   "metadata": {},
   "outputs": [
    {
     "data": {
      "text/html": [
       "<div>\n",
       "<style scoped>\n",
       "    .dataframe tbody tr th:only-of-type {\n",
       "        vertical-align: middle;\n",
       "    }\n",
       "\n",
       "    .dataframe tbody tr th {\n",
       "        vertical-align: top;\n",
       "    }\n",
       "\n",
       "    .dataframe thead th {\n",
       "        text-align: right;\n",
       "    }\n",
       "</style>\n",
       "<table border=\"1\" class=\"dataframe\">\n",
       "  <thead>\n",
       "    <tr style=\"text-align: right;\">\n",
       "      <th></th>\n",
       "      <th>name</th>\n",
       "      <th>prob_baseball</th>\n",
       "    </tr>\n",
       "  </thead>\n",
       "  <tbody>\n",
       "    <tr>\n",
       "      <th>10</th>\n",
       "      <td>willie dustice</td>\n",
       "      <td>0.999966</td>\n",
       "    </tr>\n",
       "    <tr>\n",
       "      <th>19</th>\n",
       "      <td>mike sernandez</td>\n",
       "      <td>0.999381</td>\n",
       "    </tr>\n",
       "    <tr>\n",
       "      <th>0</th>\n",
       "      <td>sleve mcdichael</td>\n",
       "      <td>0.996452</td>\n",
       "    </tr>\n",
       "    <tr>\n",
       "      <th>12</th>\n",
       "      <td>scott dourque</td>\n",
       "      <td>0.986116</td>\n",
       "    </tr>\n",
       "    <tr>\n",
       "      <th>13</th>\n",
       "      <td>shown furcotte</td>\n",
       "      <td>0.971982</td>\n",
       "    </tr>\n",
       "    <tr>\n",
       "      <th>3</th>\n",
       "      <td>rey mcsriff</td>\n",
       "      <td>0.961902</td>\n",
       "    </tr>\n",
       "    <tr>\n",
       "      <th>9</th>\n",
       "      <td>bobson dugnutt</td>\n",
       "      <td>0.951282</td>\n",
       "    </tr>\n",
       "    <tr>\n",
       "      <th>15</th>\n",
       "      <td>mike truk</td>\n",
       "      <td>0.943745</td>\n",
       "    </tr>\n",
       "    <tr>\n",
       "      <th>14</th>\n",
       "      <td>dean wesrey</td>\n",
       "      <td>0.899130</td>\n",
       "    </tr>\n",
       "    <tr>\n",
       "      <th>7</th>\n",
       "      <td>kevin nogilny</td>\n",
       "      <td>0.850772</td>\n",
       "    </tr>\n",
       "    <tr>\n",
       "      <th>8</th>\n",
       "      <td>tony smehrik</td>\n",
       "      <td>0.810113</td>\n",
       "    </tr>\n",
       "    <tr>\n",
       "      <th>6</th>\n",
       "      <td>raul chamgerlain</td>\n",
       "      <td>0.736927</td>\n",
       "    </tr>\n",
       "    <tr>\n",
       "      <th>11</th>\n",
       "      <td>jeromy gride</td>\n",
       "      <td>0.256624</td>\n",
       "    </tr>\n",
       "    <tr>\n",
       "      <th>17</th>\n",
       "      <td>tim sandaele</td>\n",
       "      <td>0.099687</td>\n",
       "    </tr>\n",
       "    <tr>\n",
       "      <th>4</th>\n",
       "      <td>glenallen mixon</td>\n",
       "      <td>0.064758</td>\n",
       "    </tr>\n",
       "    <tr>\n",
       "      <th>20</th>\n",
       "      <td>todd bonzalez</td>\n",
       "      <td>0.059528</td>\n",
       "    </tr>\n",
       "    <tr>\n",
       "      <th>2</th>\n",
       "      <td>darryl archideld</td>\n",
       "      <td>0.045200</td>\n",
       "    </tr>\n",
       "    <tr>\n",
       "      <th>18</th>\n",
       "      <td>karl dandleton</td>\n",
       "      <td>0.043169</td>\n",
       "    </tr>\n",
       "    <tr>\n",
       "      <th>1</th>\n",
       "      <td>onson sweemey</td>\n",
       "      <td>0.003269</td>\n",
       "    </tr>\n",
       "    <tr>\n",
       "      <th>16</th>\n",
       "      <td>dwigt rortugal</td>\n",
       "      <td>0.000395</td>\n",
       "    </tr>\n",
       "    <tr>\n",
       "      <th>5</th>\n",
       "      <td>mario mcrlwain</td>\n",
       "      <td>0.000152</td>\n",
       "    </tr>\n",
       "  </tbody>\n",
       "</table>\n",
       "</div>"
      ],
      "text/plain": [
       "                name  prob_baseball\n",
       "10    willie dustice       0.999966\n",
       "19    mike sernandez       0.999381\n",
       "0    sleve mcdichael       0.996452\n",
       "12     scott dourque       0.986116\n",
       "13    shown furcotte       0.971982\n",
       "3        rey mcsriff       0.961902\n",
       "9     bobson dugnutt       0.951282\n",
       "15         mike truk       0.943745\n",
       "14       dean wesrey       0.899130\n",
       "7      kevin nogilny       0.850772\n",
       "8       tony smehrik       0.810113\n",
       "6   raul chamgerlain       0.736927\n",
       "11      jeromy gride       0.256624\n",
       "17      tim sandaele       0.099687\n",
       "4    glenallen mixon       0.064758\n",
       "20     todd bonzalez       0.059528\n",
       "2   darryl archideld       0.045200\n",
       "18    karl dandleton       0.043169\n",
       "1      onson sweemey       0.003269\n",
       "16    dwigt rortugal       0.000395\n",
       "5     mario mcrlwain       0.000152"
      ]
     },
     "execution_count": 481,
     "metadata": {},
     "output_type": "execute_result"
    }
   ],
   "source": [
    "japan_names.sort_values(by=\"prob_baseball\", ascending=False)[[\"name\", \"prob_baseball\"]]"
   ]
  },
  {
   "cell_type": "code",
   "execution_count": 609,
   "id": "7422d3a6-e172-4bc2-ab18-27c3c232877f",
   "metadata": {},
   "outputs": [],
   "source": [
    "pd.Series([\n",
    "    \"kenta maeda\",\n",
    "    \"thairo estrada\",\n",
    "    \"terrin vavra\",\n",
    "    \"yoan moncada\",\n",
    "    \"seby zavala\",\n",
    "    \"yosver zulueta\",\n",
    "    \"tarik skubal\",\n",
    "    \"wilyer abreu\",\n",
    "    \"quinn priester\",\n",
    "    \"jalen beeks\",\n",
    "    \"vidal brujan\",\n",
    "    \"masyn winn\",\n",
    "    \"yohel pozo\"\n",
    "] + [\n",
    "    \"Brock Starsher\",\n",
    "    \"Nat Lariats\",\n",
    "    \"Rylee Dray\",\n",
    "    \"Jac Trax\",\n",
    "    \"Jenson Marsh\",\n",
    "    \"Jay Stobie\",\n",
    "    \"Kelvin Mann\",\n",
    "    \"Mullen Gault\",\n",
    "    \"Jorman Thoad\",\n",
    "    \"Kymber Black\",\n",
    "]).str.title().sample(frac=1).to_clipboard()"
   ]
  }
 ],
 "metadata": {
  "kernelspec": {
   "display_name": "Python 3 (ipykernel)",
   "language": "python",
   "name": "python3"
  },
  "language_info": {
   "codemirror_mode": {
    "name": "ipython",
    "version": 3
   },
   "file_extension": ".py",
   "mimetype": "text/x-python",
   "name": "python",
   "nbconvert_exporter": "python",
   "pygments_lexer": "ipython3",
   "version": "3.12.3"
  }
 },
 "nbformat": 4,
 "nbformat_minor": 5
}
